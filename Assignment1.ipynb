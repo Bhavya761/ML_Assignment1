{
 "cells": [
  {
   "cell_type": "markdown",
   "id": "b9e35909",
   "metadata": {},
   "source": [
    "### Name        : S Bhavya\n",
    "### Email Id    : bhavya76223@gmail.com\n",
    "### Mobile No :9381118322\n",
    "### College     :G Pullaiah College of Engineering and Technology"
   ]
  },
  {
   "cell_type": "markdown",
   "id": "6d127b72",
   "metadata": {},
   "source": [
    "##### 1) A company decided to give bonus of 5% to employee if his/her year of service is more than 5 year. Ask user for their salary and year of service and print the net bonus amount."
   ]
  },
  {
   "cell_type": "code",
   "execution_count": 6,
   "id": "a3700db0",
   "metadata": {},
   "outputs": [
    {
     "name": "stdout",
     "output_type": "stream",
     "text": [
      "Enter the present salary : 10000\n",
      "Enter the Years of service : 4\n",
      "Sorry there is no increment in your salary\n"
     ]
    }
   ],
   "source": [
    "Salary=int(input(\"Enter the present salary : \" ))\n",
    "Service=int(input(\"Enter the Years of service : \"))\n",
    "if Service>5:\n",
    "    Net_bonus_amount = Salary*0.05  #5% bonus\n",
    "    print(\"Congratulations for your service you are getting a net bonus amount of : \",Net_bonus_amount)\n",
    "else:\n",
    "    print(\"Sorry there is no increment in your salary\")\n",
    "    "
   ]
  },
  {
   "cell_type": "markdown",
   "id": "41bc68ac",
   "metadata": {},
   "source": [
    "##### 2) A School has following rules for grading system :\n",
    "    a) Below 25 - F\n",
    "    b) 25 to 45 - E\n",
    "    c) 45 to 50 - D\n",
    "    d) 50 to 60 - C\n",
    "    e) 60 to 80 - B\n",
    "    f) Above 80 - A\n",
    "Ask user to enter marks and print the corresponding grade."
   ]
  },
  {
   "cell_type": "code",
   "execution_count": 12,
   "id": "5d8ae7fa",
   "metadata": {},
   "outputs": [
    {
     "name": "stdout",
     "output_type": "stream",
     "text": [
      "Enter the marks : 100\n",
      "You earned 'A' grade\n"
     ]
    }
   ],
   "source": [
    "#Program for grading\n",
    "Marks=int(input(\"Enter the marks : \"))\n",
    "if Marks>80:\n",
    "    print(\"You earned \\'A\\' grade\")\n",
    "elif Marks>60:\n",
    "    print(\"You earned \\'B\\' grade\")\n",
    "elif Marks>50:\n",
    "    print(\"You earned \\'C\\' grade\")\n",
    "elif Marks>45:\n",
    "    print(\"You earned \\'D\\' grade\")\n",
    "elif Marks>25:\n",
    "    print(\"You earned \\'E\\' grade\")\n",
    "else:\n",
    "    print(\"You earned \\'F\\' grade\")"
   ]
  },
  {
   "cell_type": "markdown",
   "id": "c1c55e5e",
   "metadata": {},
   "source": [
    "##### 3) A student will not be allowed to sit in exam if his/her attendance is less than 75%.\n",
    "Take following input from user:\n",
    "    Number of classes held\n",
    "    Number of Classes Attended\n",
    "and print\n",
    "Percentage of class attended\n",
    "Is student is allowed to take test"
   ]
  },
  {
   "cell_type": "code",
   "execution_count": 14,
   "id": "6d14e927",
   "metadata": {},
   "outputs": [
    {
     "name": "stdout",
     "output_type": "stream",
     "text": [
      "Number of classes held : 100\n",
      "Number of classes attended : 20\n",
      "You are not allowed to take the test\n"
     ]
    }
   ],
   "source": [
    "#Eligibility of student to attend exam\n",
    "a=int(input(\"Number of classes held : \"))\n",
    "b=int(input(\"Number of classes attended : \"))\n",
    "attendance_percentage=(b/a)*100\n",
    "if attendance_percentage > 75:\n",
    "    print(\"You are allowed to take the test\")\n",
    "else:\n",
    "    print(\"You are not allowed to take the test\")"
   ]
  },
  {
   "cell_type": "markdown",
   "id": "1d604467",
   "metadata": {},
   "source": [
    "##### 4) Ask user to enter age,sex,marital status and then using following rules print their place of service.\n",
    "If employee is female then she will work only in urban areas.\n",
    "If employee is male and age is in between 20 to 40 then he may work in anywhere.\n",
    "If employee is male and age is in between 40 to 69 then he will work in urban areas only.\n",
    "and any other input of age should print error."
   ]
  },
  {
   "cell_type": "code",
   "execution_count": 36,
   "id": "273b2163",
   "metadata": {},
   "outputs": [
    {
     "name": "stdout",
     "output_type": "stream",
     "text": [
      "Enter your age : 10\n",
      "Sex (M/F) : M\n",
      "Error\n"
     ]
    }
   ],
   "source": [
    "age=int(input(\"Enter your age : \"))\n",
    "sex=input(\"Sex (M/F) : \")\n",
    "if age<20 or age>60:\n",
    "    print(\"ERROR\")\n",
    "elif sex == \"F\" :\n",
    "    print(\"She will work only in urban areas\")\n",
    "elif sex == \"M\":\n",
    "    if age >=20 and age<=40 :\n",
    "        print(\"He may work anywhere\")\n",
    "    elif age >=40 and age <=60 :\n",
    "        print(\"He will work in urban areas only\")\n",
    "else:\n",
    "    print(\"ERROR\")"
   ]
  },
  {
   "cell_type": "markdown",
   "id": "8edf3c78",
   "metadata": {},
   "source": [
    "##### 5)Take 10 integers from keyboard using loop and print their average value on the screen."
   ]
  },
  {
   "cell_type": "code",
   "execution_count": 39,
   "id": "e0e2a066",
   "metadata": {},
   "outputs": [
    {
     "name": "stdout",
     "output_type": "stream",
     "text": [
      "1\n",
      "3\n",
      "5\n",
      "7\n",
      "9\n",
      "11\n",
      "13\n",
      "15\n",
      "17\n",
      "19\n",
      "Average of 10 given integers is :  10.0\n"
     ]
    }
   ],
   "source": [
    "sum=0\n",
    "for i in range(10):\n",
    "    num=int(input())\n",
    "    sum=sum+num\n",
    "Average=sum/10\n",
    "print(\"Average of 10 given integers is : \",Average)\n",
    "\n"
   ]
  },
  {
   "cell_type": "markdown",
   "id": "1ec3eb1c",
   "metadata": {},
   "source": [
    "##### 6) Write a program to calculate factorial of a number."
   ]
  },
  {
   "cell_type": "code",
   "execution_count": 15,
   "id": "847dc116",
   "metadata": {},
   "outputs": [
    {
     "name": "stdout",
     "output_type": "stream",
     "text": [
      "Enter a number:5\n",
      "Factorial of given number is : 120\n"
     ]
    }
   ],
   "source": [
    "a=int(input(\"Enter a number:\"))\n",
    "factorial=1\n",
    "while a>1:\n",
    "    factorial=factorial*a\n",
    "    a=a-1\n",
    "print(\"Factorial of given number is :\" ,factorial)\n",
    "\n"
   ]
  },
  {
   "cell_type": "markdown",
   "id": "c9fc1fa7",
   "metadata": {},
   "source": [
    "###### 9) Write a program to find the length of the string 'Refrigerator' without using len function."
   ]
  },
  {
   "cell_type": "code",
   "execution_count": 3,
   "id": "fab718e3",
   "metadata": {},
   "outputs": [
    {
     "name": "stdout",
     "output_type": "stream",
     "text": [
      "No of letters in the word refrigerator are :  13\n"
     ]
    }
   ],
   "source": [
    "word=\"refrigerator\"\n",
    "a=word.index('r',-1)\n",
    "print(\"No of letters in the word refrigerator are : \",a+1)"
   ]
  },
  {
   "cell_type": "markdown",
   "id": "6bb3215f",
   "metadata": {},
   "source": [
    "##### 8) Write all Armstrong numbers between 100 to 500"
   ]
  },
  {
   "cell_type": "code",
   "execution_count": 8,
   "id": "0fd70eba",
   "metadata": {},
   "outputs": [
    {
     "name": "stdout",
     "output_type": "stream",
     "text": [
      "153\n",
      "370\n",
      "371\n",
      "407\n"
     ]
    }
   ],
   "source": [
    "for i in range(100,501):\n",
    "    temp = i\n",
    "    sum=0\n",
    "    order = len(str(i))\n",
    "    while temp>0:\n",
    "        dig = temp%10\n",
    "        sum += dig ** order\n",
    "        temp //= 10\n",
    "    if i == sum:\n",
    "        print(i)\n",
    "    "
   ]
  },
  {
   "cell_type": "markdown",
   "id": "c41366d8",
   "metadata": {},
   "source": [
    "##### 10) Write a program that takes your full name as input and displays the abbreviation of the first and middle name except the last name which is displayed as it is. \n"
   ]
  },
  {
   "cell_type": "code",
   "execution_count": 14,
   "id": "ee8386e4",
   "metadata": {},
   "outputs": [
    {
     "name": "stdout",
     "output_type": "stream",
     "text": [
      "Enter your full name : Robert Brett Roser\n",
      "R.B.Roser\n"
     ]
    }
   ],
   "source": [
    "s=input(\"Enter your full name : \")\n",
    "l=s.split()\n",
    "print(l[0][0]+'.'+l[1][0]+'.'+l[2])\n",
    "            \n"
   ]
  },
  {
   "cell_type": "markdown",
   "id": "d62aec3e",
   "metadata": {},
   "source": [
    "##### 7) Take integer inputs from user until they press q (Ask to press q to quit after every integer input). Print average and product of all numbers."
   ]
  },
  {
   "cell_type": "code",
   "execution_count": 82,
   "id": "d0bbd430",
   "metadata": {},
   "outputs": [
    {
     "name": "stdout",
     "output_type": "stream",
     "text": [
      "Enter integer value : 10\n",
      "Please enter q to quit\n",
      "Enter integer value : 10\n",
      "Please enter q to quit\n",
      "Enter integer value : 10\n",
      "Please enter q to quit\n",
      "Enter integer value : 10\n",
      "Please enter q to quit\n",
      "Enter integer value : q\n",
      "Average of given integers is :  10.0\n",
      "Product of given numbers is :  10000\n"
     ]
    }
   ],
   "source": [
    "sum=0\n",
    "count=0\n",
    "prod=1\n",
    "while True:\n",
    "    a=(input(\"Enter integer value : \"))\n",
    "    if a=='q':\n",
    "        break\n",
    "    a=int(a)\n",
    "    sum+=a\n",
    "    prod*=a\n",
    "    count+=1\n",
    "    print(\"Please enter q to quit\")\n",
    "print(\"Average of given integers is : \",sum/count)\n",
    "print(\"Product of given numbers is : \",prod)\n",
    "    \n",
    "\n"
   ]
  }
 ],
 "metadata": {
  "kernelspec": {
   "display_name": "Python 3",
   "language": "python",
   "name": "python3"
  },
  "language_info": {
   "codemirror_mode": {
    "name": "ipython",
    "version": 3
   },
   "file_extension": ".py",
   "mimetype": "text/x-python",
   "name": "python",
   "nbconvert_exporter": "python",
   "pygments_lexer": "ipython3",
   "version": "3.8.8"
  }
 },
 "nbformat": 4,
 "nbformat_minor": 5
}
